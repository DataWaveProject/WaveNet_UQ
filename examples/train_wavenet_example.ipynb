{
 "cells": [
  {
   "cell_type": "markdown",
   "id": "1c5e2b21",
   "metadata": {},
   "source": [
    "## Wavenet example\n",
    "This notebook is a simple demo of how to train wavenet. We use minimal data and loop over this data for just a few epochs. I recommend starting here to check you can properly load the data before moving onto training full ensembles. "
   ]
  },
  {
   "cell_type": "code",
   "execution_count": 1,
   "id": "c7130f5b",
   "metadata": {},
   "outputs": [],
   "source": [
    "import torch\n",
    "import torch.nn as nn\n",
    "import numpy as np\n",
    "import xarray as xr\n",
    "import matplotlib.pyplot as plt\n",
    "import random\n",
    "\n",
    "from torch.nn import MSELoss, Module\n",
    "from torch.utils.data import Dataset, DataLoader\n",
    "\n",
    "import sys\n",
    "sys.path.append('../src/')\n",
    "from Wavenet import Wavenet\n",
    "from GravityWavesDataset import GravityWavesDataset\n",
    "from utils import count_parameters"
   ]
  },
  {
   "cell_type": "code",
   "execution_count": 2,
   "id": "54d46c41",
   "metadata": {},
   "outputs": [
    {
     "name": "stdout",
     "output_type": "stream",
     "text": [
      "cpu\n"
     ]
    }
   ],
   "source": [
    "device = torch.device(\"cuda:0\" if torch.cuda.is_available() else \"cpu\")\n",
    "print(device)"
   ]
  },
  {
   "cell_type": "markdown",
   "id": "18d45d69",
   "metadata": {},
   "source": [
    "## Set up data"
   ]
  },
  {
   "cell_type": "markdown",
   "id": "8b2e08b3",
   "metadata": {},
   "source": [
    "Set up necessary directories and files. You will need to define `data_dir` as the location of your data. We are using minimal data for this example, with only daily data and with only 90 timesteps (Jan, Feb, Mar). We will need to increase this, but for demonstration purposes, this notebook should run without memory errors. "
   ]
  },
  {
   "cell_type": "code",
   "execution_count": 3,
   "id": "38b0065b",
   "metadata": {},
   "outputs": [
    {
     "name": "stdout",
     "output_type": "stream",
     "text": [
      "Loading datasets into memory.\n",
      "Setting up dataset from single file: atmos_daily_43.nc\n",
      "Done opening single file\n",
      "Dataset has ntime=90. Getting variables.\n",
      "Load into memory\n",
      "Done. All variables as numpy arrays\n",
      "Setting up transforms\n",
      "Standard scaling\n"
     ]
    },
    {
     "name": "stderr",
     "output_type": "stream",
     "text": [
      "/home/users/lauraman/WaveNetPyTorch/examples/../src/GravityWavesDataset.py:285: RuntimeWarning: invalid value encountered in divide\n",
      "  u = (u - u_mean) / u_sd\n"
     ]
    },
    {
     "name": "stdout",
     "output_type": "stream",
     "text": [
      "Dataset will return transformed variables (standard scaler)\n",
      "Done. Dataset ready.\n"
     ]
    }
   ],
   "source": [
    "# Set up directories and files - you will need to edit this to point to the location of your data \n",
    "data_dir = \"/scratch/users/lauraman/WaveNetPyTorch/mima_runs/train_wavenet/\"\n",
    "filename = \"atmos_daily_43.nc\"\n",
    "\n",
    "# What component of gravity wave drag? This can be \"zonal\" or \"meridional\".\n",
    "component = \"zonal\"\n",
    "\n",
    "# Use standard scaler transform to normalize to zero mean, unit variance.\n",
    "transform = \"standard\"\n",
    "means_filename = \"atmos_all_43_mean.nc\"\n",
    "sd_filename = \"atmos_all_43_std.nc\"\n",
    "transform_dict = {\"filename_mean\":means_filename, \n",
    "                      \"filename_sd\":sd_filename}\n",
    "\n",
    "print(\"Loading datasets into memory.\")\n",
    "gw_dataset = GravityWavesDataset(data_dir, filename, \n",
    "                                 component = component,\n",
    "                                 transform = transform,\n",
    "                                 transform_dict = transform_dict,\n",
    "                                 subset_time = (0, 90))"
   ]
  },
  {
   "cell_type": "code",
   "execution_count": 4,
   "id": "41173028",
   "metadata": {},
   "outputs": [
    {
     "name": "stdout",
     "output_type": "stream",
     "text": [
      "Loading datasets into memory.\n",
      "Setting up dataset from single file: atmos_daily_44.nc\n",
      "Done opening single file\n",
      "Dataset has ntime=90. Getting variables.\n",
      "Load into memory\n",
      "Done. All variables as numpy arrays\n",
      "Setting up transforms\n",
      "Standard scaling\n",
      "Dataset will return transformed variables (standard scaler)\n",
      "Done. Dataset ready.\n"
     ]
    }
   ],
   "source": [
    "# We will also set up a validation dataset. \n",
    "print(\"Loading datasets into memory.\")\n",
    "valid_filename = \"atmos_daily_44.nc\"\n",
    "valid_dataset = GravityWavesDataset(data_dir, valid_filename, \n",
    "                                    component = component,\n",
    "                                    transform = transform,\n",
    "                                    transform_dict = transform_dict,\n",
    "                                    subset_time = (0, 90))"
   ]
  },
  {
   "cell_type": "markdown",
   "id": "8d730e8c",
   "metadata": {},
   "source": [
    "## What does this data look like? \n",
    "Let's look at the first timestep."
   ]
  },
  {
   "cell_type": "code",
   "execution_count": 5,
   "id": "8e3f81d9",
   "metadata": {},
   "outputs": [
    {
     "name": "stdout",
     "output_type": "stream",
     "text": [
      "torch.Size([1, 82]) torch.Size([1, 40])\n"
     ]
    }
   ],
   "source": [
    "data_init = gw_dataset[0]\n",
    "X = data_init[\"X\"]\n",
    "Y = data_init[\"Y\"]\n",
    "print(X.shape, Y.shape)"
   ]
  },
  {
   "cell_type": "markdown",
   "id": "bc8bc8a2",
   "metadata": {},
   "source": [
    "## Set up a dataloader \n",
    "We will train the model with a loop. First, setup the data loader. We can experiment with batch size. I am choosing to fix the validation batch size at 64, equal to the number of latitudes, and `shuffle=False` in the validation data loader, because the inverse scaling becomes simpler as we will see later."
   ]
  },
  {
   "cell_type": "code",
   "execution_count": 6,
   "id": "a80b3cf6",
   "metadata": {},
   "outputs": [],
   "source": [
    "# Set batch size \n",
    "batch_size = 64\n",
    "n_samples = len(gw_dataset)\n",
    "n_batches = n_samples//batch_size\n",
    "\n",
    "# Set up dataloaders\n",
    "train_dataloader = DataLoader(gw_dataset, batch_size=batch_size,\n",
    "                              shuffle=True, num_workers=0, pin_memory=False)\n",
    "\n",
    "valid_dataloader = DataLoader(valid_dataset, batch_size=64,\n",
    "                              shuffle=False, num_workers=0, pin_memory=True)"
   ]
  },
  {
   "cell_type": "markdown",
   "id": "0d292e2e",
   "metadata": {},
   "source": [
    "## Define Wavenet model\n",
    "Define the model and sanity check the size of the model"
   ]
  },
  {
   "cell_type": "code",
   "execution_count": 7,
   "id": "326a3ad8",
   "metadata": {},
   "outputs": [],
   "source": [
    "## New instance of model saved in src/Wavenet.py\n",
    "my_model = Wavenet(n_in=82, n_out=40)"
   ]
  },
  {
   "cell_type": "code",
   "execution_count": 8,
   "id": "a3b89ae6",
   "metadata": {},
   "outputs": [
    {
     "name": "stdout",
     "output_type": "stream",
     "text": [
      "torch.Size([64, 40]) torch.Size([64, 40])\n"
     ]
    }
   ],
   "source": [
    "## Check if the sizes of our arrays are correct by predicting random point\n",
    "batch = next(iter(train_dataloader))\n",
    "X, Y = batch[\"X\"].squeeze(), batch[\"Y\"].squeeze()\n",
    "X, Y = X.to(device), Y.to(device)\n",
    "Y_pred = my_model(X).squeeze()\n",
    "print(Y.shape, Y_pred.shape)"
   ]
  },
  {
   "cell_type": "markdown",
   "id": "ab17c340",
   "metadata": {},
   "source": [
    "These should both give you `(batch_size, 40)`. If it all looks good, we are proceed to the training loop."
   ]
  },
  {
   "cell_type": "markdown",
   "id": "2fa3905e",
   "metadata": {},
   "source": [
    "## Train model\n",
    "Start the training loop"
   ]
  },
  {
   "cell_type": "code",
   "execution_count": 9,
   "id": "73245489",
   "metadata": {},
   "outputs": [
    {
     "data": {
      "text/plain": [
       "Wavenet(\n",
       "  (shared): Sequential(\n",
       "    (0): Linear(in_features=82, out_features=128, bias=True)\n",
       "    (1): ReLU()\n",
       "    (2): Dropout(p=0, inplace=False)\n",
       "  )\n",
       "  (branches): ModuleList(\n",
       "    (0): Sequential(\n",
       "      (0): Linear(in_features=128, out_features=64, bias=True)\n",
       "      (1): ReLU()\n",
       "      (2): Dropout(p=0, inplace=False)\n",
       "      (3): Linear(in_features=64, out_features=32, bias=True)\n",
       "      (4): ReLU()\n",
       "      (5): Dropout(p=0, inplace=False)\n",
       "      (6): Linear(in_features=32, out_features=1, bias=True)\n",
       "    )\n",
       "    (1): Sequential(\n",
       "      (0): Linear(in_features=128, out_features=64, bias=True)\n",
       "      (1): ReLU()\n",
       "      (2): Dropout(p=0, inplace=False)\n",
       "      (3): Linear(in_features=64, out_features=32, bias=True)\n",
       "      (4): ReLU()\n",
       "      (5): Dropout(p=0, inplace=False)\n",
       "      (6): Linear(in_features=32, out_features=1, bias=True)\n",
       "    )\n",
       "    (2): Sequential(\n",
       "      (0): Linear(in_features=128, out_features=64, bias=True)\n",
       "      (1): ReLU()\n",
       "      (2): Dropout(p=0, inplace=False)\n",
       "      (3): Linear(in_features=64, out_features=32, bias=True)\n",
       "      (4): ReLU()\n",
       "      (5): Dropout(p=0, inplace=False)\n",
       "      (6): Linear(in_features=32, out_features=1, bias=True)\n",
       "    )\n",
       "    (3): Sequential(\n",
       "      (0): Linear(in_features=128, out_features=64, bias=True)\n",
       "      (1): ReLU()\n",
       "      (2): Dropout(p=0, inplace=False)\n",
       "      (3): Linear(in_features=64, out_features=32, bias=True)\n",
       "      (4): ReLU()\n",
       "      (5): Dropout(p=0, inplace=False)\n",
       "      (6): Linear(in_features=32, out_features=1, bias=True)\n",
       "    )\n",
       "    (4): Sequential(\n",
       "      (0): Linear(in_features=128, out_features=64, bias=True)\n",
       "      (1): ReLU()\n",
       "      (2): Dropout(p=0, inplace=False)\n",
       "      (3): Linear(in_features=64, out_features=32, bias=True)\n",
       "      (4): ReLU()\n",
       "      (5): Dropout(p=0, inplace=False)\n",
       "      (6): Linear(in_features=32, out_features=1, bias=True)\n",
       "    )\n",
       "    (5): Sequential(\n",
       "      (0): Linear(in_features=128, out_features=64, bias=True)\n",
       "      (1): ReLU()\n",
       "      (2): Dropout(p=0, inplace=False)\n",
       "      (3): Linear(in_features=64, out_features=32, bias=True)\n",
       "      (4): ReLU()\n",
       "      (5): Dropout(p=0, inplace=False)\n",
       "      (6): Linear(in_features=32, out_features=1, bias=True)\n",
       "    )\n",
       "    (6): Sequential(\n",
       "      (0): Linear(in_features=128, out_features=64, bias=True)\n",
       "      (1): ReLU()\n",
       "      (2): Dropout(p=0, inplace=False)\n",
       "      (3): Linear(in_features=64, out_features=32, bias=True)\n",
       "      (4): ReLU()\n",
       "      (5): Dropout(p=0, inplace=False)\n",
       "      (6): Linear(in_features=32, out_features=1, bias=True)\n",
       "    )\n",
       "    (7): Sequential(\n",
       "      (0): Linear(in_features=128, out_features=64, bias=True)\n",
       "      (1): ReLU()\n",
       "      (2): Dropout(p=0, inplace=False)\n",
       "      (3): Linear(in_features=64, out_features=32, bias=True)\n",
       "      (4): ReLU()\n",
       "      (5): Dropout(p=0, inplace=False)\n",
       "      (6): Linear(in_features=32, out_features=1, bias=True)\n",
       "    )\n",
       "    (8): Sequential(\n",
       "      (0): Linear(in_features=128, out_features=64, bias=True)\n",
       "      (1): ReLU()\n",
       "      (2): Dropout(p=0, inplace=False)\n",
       "      (3): Linear(in_features=64, out_features=32, bias=True)\n",
       "      (4): ReLU()\n",
       "      (5): Dropout(p=0, inplace=False)\n",
       "      (6): Linear(in_features=32, out_features=1, bias=True)\n",
       "    )\n",
       "    (9): Sequential(\n",
       "      (0): Linear(in_features=128, out_features=64, bias=True)\n",
       "      (1): ReLU()\n",
       "      (2): Dropout(p=0, inplace=False)\n",
       "      (3): Linear(in_features=64, out_features=32, bias=True)\n",
       "      (4): ReLU()\n",
       "      (5): Dropout(p=0, inplace=False)\n",
       "      (6): Linear(in_features=32, out_features=1, bias=True)\n",
       "    )\n",
       "    (10): Sequential(\n",
       "      (0): Linear(in_features=128, out_features=64, bias=True)\n",
       "      (1): ReLU()\n",
       "      (2): Dropout(p=0, inplace=False)\n",
       "      (3): Linear(in_features=64, out_features=32, bias=True)\n",
       "      (4): ReLU()\n",
       "      (5): Dropout(p=0, inplace=False)\n",
       "      (6): Linear(in_features=32, out_features=1, bias=True)\n",
       "    )\n",
       "    (11): Sequential(\n",
       "      (0): Linear(in_features=128, out_features=64, bias=True)\n",
       "      (1): ReLU()\n",
       "      (2): Dropout(p=0, inplace=False)\n",
       "      (3): Linear(in_features=64, out_features=32, bias=True)\n",
       "      (4): ReLU()\n",
       "      (5): Dropout(p=0, inplace=False)\n",
       "      (6): Linear(in_features=32, out_features=1, bias=True)\n",
       "    )\n",
       "    (12): Sequential(\n",
       "      (0): Linear(in_features=128, out_features=64, bias=True)\n",
       "      (1): ReLU()\n",
       "      (2): Dropout(p=0, inplace=False)\n",
       "      (3): Linear(in_features=64, out_features=32, bias=True)\n",
       "      (4): ReLU()\n",
       "      (5): Dropout(p=0, inplace=False)\n",
       "      (6): Linear(in_features=32, out_features=1, bias=True)\n",
       "    )\n",
       "    (13): Sequential(\n",
       "      (0): Linear(in_features=128, out_features=64, bias=True)\n",
       "      (1): ReLU()\n",
       "      (2): Dropout(p=0, inplace=False)\n",
       "      (3): Linear(in_features=64, out_features=32, bias=True)\n",
       "      (4): ReLU()\n",
       "      (5): Dropout(p=0, inplace=False)\n",
       "      (6): Linear(in_features=32, out_features=1, bias=True)\n",
       "    )\n",
       "    (14): Sequential(\n",
       "      (0): Linear(in_features=128, out_features=64, bias=True)\n",
       "      (1): ReLU()\n",
       "      (2): Dropout(p=0, inplace=False)\n",
       "      (3): Linear(in_features=64, out_features=32, bias=True)\n",
       "      (4): ReLU()\n",
       "      (5): Dropout(p=0, inplace=False)\n",
       "      (6): Linear(in_features=32, out_features=1, bias=True)\n",
       "    )\n",
       "    (15): Sequential(\n",
       "      (0): Linear(in_features=128, out_features=64, bias=True)\n",
       "      (1): ReLU()\n",
       "      (2): Dropout(p=0, inplace=False)\n",
       "      (3): Linear(in_features=64, out_features=32, bias=True)\n",
       "      (4): ReLU()\n",
       "      (5): Dropout(p=0, inplace=False)\n",
       "      (6): Linear(in_features=32, out_features=1, bias=True)\n",
       "    )\n",
       "    (16): Sequential(\n",
       "      (0): Linear(in_features=128, out_features=64, bias=True)\n",
       "      (1): ReLU()\n",
       "      (2): Dropout(p=0, inplace=False)\n",
       "      (3): Linear(in_features=64, out_features=32, bias=True)\n",
       "      (4): ReLU()\n",
       "      (5): Dropout(p=0, inplace=False)\n",
       "      (6): Linear(in_features=32, out_features=1, bias=True)\n",
       "    )\n",
       "    (17): Sequential(\n",
       "      (0): Linear(in_features=128, out_features=64, bias=True)\n",
       "      (1): ReLU()\n",
       "      (2): Dropout(p=0, inplace=False)\n",
       "      (3): Linear(in_features=64, out_features=32, bias=True)\n",
       "      (4): ReLU()\n",
       "      (5): Dropout(p=0, inplace=False)\n",
       "      (6): Linear(in_features=32, out_features=1, bias=True)\n",
       "    )\n",
       "    (18): Sequential(\n",
       "      (0): Linear(in_features=128, out_features=64, bias=True)\n",
       "      (1): ReLU()\n",
       "      (2): Dropout(p=0, inplace=False)\n",
       "      (3): Linear(in_features=64, out_features=32, bias=True)\n",
       "      (4): ReLU()\n",
       "      (5): Dropout(p=0, inplace=False)\n",
       "      (6): Linear(in_features=32, out_features=1, bias=True)\n",
       "    )\n",
       "    (19): Sequential(\n",
       "      (0): Linear(in_features=128, out_features=64, bias=True)\n",
       "      (1): ReLU()\n",
       "      (2): Dropout(p=0, inplace=False)\n",
       "      (3): Linear(in_features=64, out_features=32, bias=True)\n",
       "      (4): ReLU()\n",
       "      (5): Dropout(p=0, inplace=False)\n",
       "      (6): Linear(in_features=32, out_features=1, bias=True)\n",
       "    )\n",
       "    (20): Sequential(\n",
       "      (0): Linear(in_features=128, out_features=64, bias=True)\n",
       "      (1): ReLU()\n",
       "      (2): Dropout(p=0, inplace=False)\n",
       "      (3): Linear(in_features=64, out_features=32, bias=True)\n",
       "      (4): ReLU()\n",
       "      (5): Dropout(p=0, inplace=False)\n",
       "      (6): Linear(in_features=32, out_features=1, bias=True)\n",
       "    )\n",
       "    (21): Sequential(\n",
       "      (0): Linear(in_features=128, out_features=64, bias=True)\n",
       "      (1): ReLU()\n",
       "      (2): Dropout(p=0, inplace=False)\n",
       "      (3): Linear(in_features=64, out_features=32, bias=True)\n",
       "      (4): ReLU()\n",
       "      (5): Dropout(p=0, inplace=False)\n",
       "      (6): Linear(in_features=32, out_features=1, bias=True)\n",
       "    )\n",
       "    (22): Sequential(\n",
       "      (0): Linear(in_features=128, out_features=64, bias=True)\n",
       "      (1): ReLU()\n",
       "      (2): Dropout(p=0, inplace=False)\n",
       "      (3): Linear(in_features=64, out_features=32, bias=True)\n",
       "      (4): ReLU()\n",
       "      (5): Dropout(p=0, inplace=False)\n",
       "      (6): Linear(in_features=32, out_features=1, bias=True)\n",
       "    )\n",
       "    (23): Sequential(\n",
       "      (0): Linear(in_features=128, out_features=64, bias=True)\n",
       "      (1): ReLU()\n",
       "      (2): Dropout(p=0, inplace=False)\n",
       "      (3): Linear(in_features=64, out_features=32, bias=True)\n",
       "      (4): ReLU()\n",
       "      (5): Dropout(p=0, inplace=False)\n",
       "      (6): Linear(in_features=32, out_features=1, bias=True)\n",
       "    )\n",
       "    (24): Sequential(\n",
       "      (0): Linear(in_features=128, out_features=64, bias=True)\n",
       "      (1): ReLU()\n",
       "      (2): Dropout(p=0, inplace=False)\n",
       "      (3): Linear(in_features=64, out_features=32, bias=True)\n",
       "      (4): ReLU()\n",
       "      (5): Dropout(p=0, inplace=False)\n",
       "      (6): Linear(in_features=32, out_features=1, bias=True)\n",
       "    )\n",
       "    (25): Sequential(\n",
       "      (0): Linear(in_features=128, out_features=64, bias=True)\n",
       "      (1): ReLU()\n",
       "      (2): Dropout(p=0, inplace=False)\n",
       "      (3): Linear(in_features=64, out_features=32, bias=True)\n",
       "      (4): ReLU()\n",
       "      (5): Dropout(p=0, inplace=False)\n",
       "      (6): Linear(in_features=32, out_features=1, bias=True)\n",
       "    )\n",
       "    (26): Sequential(\n",
       "      (0): Linear(in_features=128, out_features=64, bias=True)\n",
       "      (1): ReLU()\n",
       "      (2): Dropout(p=0, inplace=False)\n",
       "      (3): Linear(in_features=64, out_features=32, bias=True)\n",
       "      (4): ReLU()\n",
       "      (5): Dropout(p=0, inplace=False)\n",
       "      (6): Linear(in_features=32, out_features=1, bias=True)\n",
       "    )\n",
       "    (27): Sequential(\n",
       "      (0): Linear(in_features=128, out_features=64, bias=True)\n",
       "      (1): ReLU()\n",
       "      (2): Dropout(p=0, inplace=False)\n",
       "      (3): Linear(in_features=64, out_features=32, bias=True)\n",
       "      (4): ReLU()\n",
       "      (5): Dropout(p=0, inplace=False)\n",
       "      (6): Linear(in_features=32, out_features=1, bias=True)\n",
       "    )\n",
       "    (28): Sequential(\n",
       "      (0): Linear(in_features=128, out_features=64, bias=True)\n",
       "      (1): ReLU()\n",
       "      (2): Dropout(p=0, inplace=False)\n",
       "      (3): Linear(in_features=64, out_features=32, bias=True)\n",
       "      (4): ReLU()\n",
       "      (5): Dropout(p=0, inplace=False)\n",
       "      (6): Linear(in_features=32, out_features=1, bias=True)\n",
       "    )\n",
       "    (29): Sequential(\n",
       "      (0): Linear(in_features=128, out_features=64, bias=True)\n",
       "      (1): ReLU()\n",
       "      (2): Dropout(p=0, inplace=False)\n",
       "      (3): Linear(in_features=64, out_features=32, bias=True)\n",
       "      (4): ReLU()\n",
       "      (5): Dropout(p=0, inplace=False)\n",
       "      (6): Linear(in_features=32, out_features=1, bias=True)\n",
       "    )\n",
       "    (30): Sequential(\n",
       "      (0): Linear(in_features=128, out_features=64, bias=True)\n",
       "      (1): ReLU()\n",
       "      (2): Dropout(p=0, inplace=False)\n",
       "      (3): Linear(in_features=64, out_features=32, bias=True)\n",
       "      (4): ReLU()\n",
       "      (5): Dropout(p=0, inplace=False)\n",
       "      (6): Linear(in_features=32, out_features=1, bias=True)\n",
       "    )\n",
       "    (31): Sequential(\n",
       "      (0): Linear(in_features=128, out_features=64, bias=True)\n",
       "      (1): ReLU()\n",
       "      (2): Dropout(p=0, inplace=False)\n",
       "      (3): Linear(in_features=64, out_features=32, bias=True)\n",
       "      (4): ReLU()\n",
       "      (5): Dropout(p=0, inplace=False)\n",
       "      (6): Linear(in_features=32, out_features=1, bias=True)\n",
       "    )\n",
       "    (32): Sequential(\n",
       "      (0): Linear(in_features=128, out_features=64, bias=True)\n",
       "      (1): ReLU()\n",
       "      (2): Dropout(p=0, inplace=False)\n",
       "      (3): Linear(in_features=64, out_features=32, bias=True)\n",
       "      (4): ReLU()\n",
       "      (5): Dropout(p=0, inplace=False)\n",
       "      (6): Linear(in_features=32, out_features=1, bias=True)\n",
       "    )\n",
       "    (33): Sequential(\n",
       "      (0): Linear(in_features=128, out_features=64, bias=True)\n",
       "      (1): ReLU()\n",
       "      (2): Dropout(p=0, inplace=False)\n",
       "      (3): Linear(in_features=64, out_features=32, bias=True)\n",
       "      (4): ReLU()\n",
       "      (5): Dropout(p=0, inplace=False)\n",
       "      (6): Linear(in_features=32, out_features=1, bias=True)\n",
       "    )\n",
       "    (34): Sequential(\n",
       "      (0): Linear(in_features=128, out_features=64, bias=True)\n",
       "      (1): ReLU()\n",
       "      (2): Dropout(p=0, inplace=False)\n",
       "      (3): Linear(in_features=64, out_features=32, bias=True)\n",
       "      (4): ReLU()\n",
       "      (5): Dropout(p=0, inplace=False)\n",
       "      (6): Linear(in_features=32, out_features=1, bias=True)\n",
       "    )\n",
       "    (35): Sequential(\n",
       "      (0): Linear(in_features=128, out_features=64, bias=True)\n",
       "      (1): ReLU()\n",
       "      (2): Dropout(p=0, inplace=False)\n",
       "      (3): Linear(in_features=64, out_features=32, bias=True)\n",
       "      (4): ReLU()\n",
       "      (5): Dropout(p=0, inplace=False)\n",
       "      (6): Linear(in_features=32, out_features=1, bias=True)\n",
       "    )\n",
       "    (36): Sequential(\n",
       "      (0): Linear(in_features=128, out_features=64, bias=True)\n",
       "      (1): ReLU()\n",
       "      (2): Dropout(p=0, inplace=False)\n",
       "      (3): Linear(in_features=64, out_features=32, bias=True)\n",
       "      (4): ReLU()\n",
       "      (5): Dropout(p=0, inplace=False)\n",
       "      (6): Linear(in_features=32, out_features=1, bias=True)\n",
       "    )\n",
       "    (37): Sequential(\n",
       "      (0): Linear(in_features=128, out_features=64, bias=True)\n",
       "      (1): ReLU()\n",
       "      (2): Dropout(p=0, inplace=False)\n",
       "      (3): Linear(in_features=64, out_features=32, bias=True)\n",
       "      (4): ReLU()\n",
       "      (5): Dropout(p=0, inplace=False)\n",
       "      (6): Linear(in_features=32, out_features=1, bias=True)\n",
       "    )\n",
       "    (38): Sequential(\n",
       "      (0): Linear(in_features=128, out_features=64, bias=True)\n",
       "      (1): ReLU()\n",
       "      (2): Dropout(p=0, inplace=False)\n",
       "      (3): Linear(in_features=64, out_features=32, bias=True)\n",
       "      (4): ReLU()\n",
       "      (5): Dropout(p=0, inplace=False)\n",
       "      (6): Linear(in_features=32, out_features=1, bias=True)\n",
       "    )\n",
       "    (39): Sequential(\n",
       "      (0): Linear(in_features=128, out_features=64, bias=True)\n",
       "      (1): ReLU()\n",
       "      (2): Dropout(p=0, inplace=False)\n",
       "      (3): Linear(in_features=64, out_features=32, bias=True)\n",
       "      (4): ReLU()\n",
       "      (5): Dropout(p=0, inplace=False)\n",
       "      (6): Linear(in_features=32, out_features=1, bias=True)\n",
       "    )\n",
       "  )\n",
       ")"
      ]
     },
     "execution_count": 9,
     "metadata": {},
     "output_type": "execute_result"
    }
   ],
   "source": [
    "my_model = my_model.to(device)\n",
    "my_model.train()"
   ]
  },
  {
   "cell_type": "code",
   "execution_count": 10,
   "id": "ee2d3ada",
   "metadata": {},
   "outputs": [],
   "source": [
    "# Settings: you may want to experiment with these! \n",
    "n_epoch = 2\n",
    "optimizer = torch.optim.Adam(my_model.parameters(), lr=1e-3)\n",
    "loss_func = MSELoss()"
   ]
  },
  {
   "cell_type": "code",
   "execution_count": 11,
   "id": "7d5350db",
   "metadata": {},
   "outputs": [],
   "source": [
    "# Save losses\n",
    "losses = []\n",
    "training_losses = []\n",
    "validation_losses = []"
   ]
  },
  {
   "cell_type": "code",
   "execution_count": 12,
   "id": "e9499117",
   "metadata": {},
   "outputs": [
    {
     "name": "stdout",
     "output_type": "stream",
     "text": [
      "Running 11520 batchs for batch size of 64 for dataset size 737280\n"
     ]
    }
   ],
   "source": [
    "print(f\"Running {n_batches} batchs for batch size of {batch_size} \\\n",
    "for dataset size {n_samples}\")\n"
   ]
  },
  {
   "cell_type": "code",
   "execution_count": 13,
   "id": "8e976be0",
   "metadata": {
    "scrolled": false
   },
   "outputs": [
    {
     "name": "stdout",
     "output_type": "stream",
     "text": [
      "iteration: 0, Loss:1.4628220796585083\n",
      "iteration: 1000, Loss:0.3353878855705261\n",
      "iteration: 2000, Loss:0.19477388262748718\n",
      "iteration: 3000, Loss:0.2140474021434784\n",
      "iteration: 4000, Loss:0.18284641206264496\n",
      "iteration: 5000, Loss:0.2111949473619461\n",
      "iteration: 6000, Loss:0.23881688714027405\n",
      "iteration: 7000, Loss:0.19464915990829468\n",
      "iteration: 8000, Loss:0.14444950222969055\n",
      "iteration: 9000, Loss:0.16161760687828064\n",
      "iteration: 10000, Loss:0.2002657651901245\n",
      "iteration: 11000, Loss:0.16907650232315063\n",
      "Epoch: 0, loss:0.18568643927574158,           total training loss: 0.20680615712448747           total validation loss: 0.38635130832262804\n",
      "iteration: 0, Loss:0.16075606644153595\n",
      "iteration: 1000, Loss:0.15784823894500732\n",
      "iteration: 2000, Loss:0.17212547361850739\n",
      "iteration: 3000, Loss:0.17287404835224152\n",
      "iteration: 4000, Loss:0.15797576308250427\n",
      "iteration: 5000, Loss:0.12283257395029068\n",
      "iteration: 6000, Loss:0.14089074730873108\n",
      "iteration: 7000, Loss:0.16896125674247742\n",
      "iteration: 8000, Loss:0.148591086268425\n",
      "iteration: 9000, Loss:0.16346213221549988\n",
      "iteration: 10000, Loss:0.134342223405838\n",
      "iteration: 11000, Loss:0.12334326654672623\n",
      "Epoch: 1, loss:0.1678660809993744,           total training loss: 0.15553601380670443           total validation loss: 0.36766412814015187\n"
     ]
    }
   ],
   "source": [
    "for ep in range(0, n_epoch):\n",
    "    ## Training\n",
    "    i = 0\n",
    "    training_loss = 0\n",
    "    my_model.train()\n",
    "    for batch in train_dataloader:\n",
    "        optimizer.zero_grad()\n",
    "        X, Y = batch[\"X\"].squeeze(), batch[\"Y\"].squeeze()\n",
    "        X, Y = X.to(device), Y.to(device)\n",
    "        Y_pred = my_model(X).squeeze()\n",
    "        err = loss_func(Y_pred, Y)\n",
    "        err.backward()\n",
    "        optimizer.step()\n",
    "        losses.append(err.item())\n",
    "        training_loss += err.item()\n",
    "        if i % 1000 == 0:\n",
    "            print(f\"iteration: {i}, Loss:{err.item()}\")\n",
    "        i+=1\n",
    "\n",
    "    training_loss = training_loss / i\n",
    "    training_losses.append(training_loss)\n",
    "    \n",
    "    ## Validation \n",
    "    i = 0\n",
    "    valid_loss = 0\n",
    "    my_model.eval()\n",
    "    with torch.no_grad():\n",
    "        for batch in valid_dataloader:\n",
    "            X, Y = batch[\"X\"].squeeze(), batch[\"Y\"].squeeze()\n",
    "            X, Y = X.to(device), Y.to(device)\n",
    "            Y_pred = my_model(X).squeeze()\n",
    "            err = loss_func(Y_pred, Y)\n",
    "            valid_loss += err.item()\n",
    "            i+=1\n",
    "\n",
    "    valid_loss = valid_loss / i\n",
    "    validation_losses.append(valid_loss)\n",
    "\n",
    "    print(f\"Epoch: {ep}, loss:{losses[-1]}, \\\n",
    "          total training loss: {training_loss} \\\n",
    "          total validation loss: {valid_loss}\")"
   ]
  },
  {
   "cell_type": "code",
   "execution_count": 14,
   "id": "607bda1d",
   "metadata": {},
   "outputs": [
    {
     "data": {
      "text/plain": [
       "[<matplotlib.lines.Line2D at 0x7fcc95b41b20>]"
      ]
     },
     "execution_count": 14,
     "metadata": {},
     "output_type": "execute_result"
    },
    {
     "data": {
      "image/png": "[encoded data removed]",
      "text/plain": [
       "<Figure size 360x288 with 1 Axes>"
      ]
     },
     "metadata": {
      "needs_background": "light"
     },
     "output_type": "display_data"
    }
   ],
   "source": [
    "plt.figure(figsize=(5, 4))\n",
    "plt.semilogy(losses, color='black')"
   ]
  },
  {
   "cell_type": "markdown",
   "id": "1ab6ba81",
   "metadata": {},
   "source": [
    "After running several epochs, we can start comparing the training and validation losses. We expect the training loss to be lower than the validation loss."
   ]
  },
  {
   "cell_type": "code",
   "execution_count": 15,
   "id": "6e0fbdab",
   "metadata": {},
   "outputs": [
    {
     "data": {
      "text/plain": [
       "<matplotlib.legend.Legend at 0x7fcc9714c310>"
      ]
     },
     "execution_count": 15,
     "metadata": {},
     "output_type": "execute_result"
    },
    {
     "data": {
      "image/png": "[encoded data removed]",
      "text/plain": [
       "<Figure size 360x288 with 1 Axes>"
      ]
     },
     "metadata": {
      "needs_background": "light"
     },
     "output_type": "display_data"
    }
   ],
   "source": [
    "# After running several epochs, we can start comparing the training and validation losses\n",
    "plt.figure(figsize=(5, 4))\n",
    "plt.semilogy(training_losses, color=\"black\", label=\"Training\")\n",
    "plt.semilogy(validation_losses, color=\"red\", label=\"Validation\")\n",
    "plt.legend()"
   ]
  },
  {
   "cell_type": "markdown",
   "id": "cb762f2f",
   "metadata": {},
   "source": [
    "## Test performance\n",
    "After one loop through the training dataset, let's check performance on the validation dataset"
   ]
  },
  {
   "cell_type": "code",
   "execution_count": 16,
   "id": "9d8e1aef",
   "metadata": {},
   "outputs": [
    {
     "data": {
      "image/png": "[encoded data removed]",
      "text/plain": [
       "<Figure size 720x720 with 4 Axes>"
      ]
     },
     "metadata": {
      "needs_background": "light"
     },
     "output_type": "display_data"
    }
   ],
   "source": [
    "## Predict random point\n",
    "batch = next(iter(valid_dataloader))\n",
    "X, Y = batch[\"X\"].squeeze().to(device), batch[\"Y\"].squeeze()\n",
    "# extract X and reshape to (1, 82), then convert to torch for model\n",
    "Y_pred = my_model(X).to('cpu').squeeze()\n",
    "\n",
    "fig, ax = plt.subplots(2,2, figsize=(10, 10))\n",
    "ax = ax.flatten()\n",
    "# Plot a few samples for different latitudes\n",
    "for i, j in enumerate(range(0, 64, 16)):\n",
    "    plt.sca(ax[i])\n",
    "    plt.semilogy(Y.detach()[j,:], \n",
    "                 gw_dataset.pfull, \n",
    "                 color=\"black\", label=\"Truth\")\n",
    "    plt.semilogy(Y_pred.detach()[j,:],\n",
    "                 gw_dataset.pfull, \n",
    "                 color=\"red\", label=\"Prediction\")\n",
    "    plt.legend()\n",
    "    plt.gca().invert_yaxis()\n",
    "    plt.title(f\"Latitude: {gw_dataset.lat[j]:.1f}\")\n",
    "    plt.xlabel(\"Gravity Wave Drag (Normalized)\")\n",
    "    plt.ylabel(\"Pressure (hPa)\")"
   ]
  },
  {
   "cell_type": "markdown",
   "id": "6a299d41",
   "metadata": {},
   "source": [
    "It looks like the prediction is okay and matches the truth, but these profiles look strange and fluctuate a lot between model levels! Recall they are normalized to standard scaling with zero mean, unit variance. We would expect to see gravity wave drag to increase in magnitude with height. Let's check how they look when we apply the inverse scaling."
   ]
  },
  {
   "cell_type": "code",
   "execution_count": 17,
   "id": "016a53a9",
   "metadata": {},
   "outputs": [
    {
     "name": "stdout",
     "output_type": "stream",
     "text": [
      "(1, 40, 64, 1) (1, 40, 64, 1)\n"
     ]
    }
   ],
   "source": [
    "# First, need to extract gwfu_mean and gwfu_sd from our dataset \n",
    "# These are means over time and longitude so should be stored with shape\n",
    "# time [1], pfull [40], lat [64], lon [1]) \n",
    "gwfu_mean = gw_dataset.gwfu_mean\n",
    "gwfu_sd = gw_dataset.gwfu_sd\n",
    "print(gwfu_mean.shape, gwfu_sd.shape)"
   ]
  },
  {
   "cell_type": "code",
   "execution_count": 18,
   "id": "9a2319e5",
   "metadata": {},
   "outputs": [
    {
     "name": "stdout",
     "output_type": "stream",
     "text": [
      "(64, 40) (64, 40)\n"
     ]
    }
   ],
   "source": [
    "# We need to squeeze out time and lon and then transpose to (lat [64], pfull [40])\n",
    "gwfu_mean = gw_dataset.gwfu_mean.squeeze().T\n",
    "gwfu_sd = gw_dataset.gwfu_sd.squeeze().T\n",
    "print(gwfu_mean.shape, gwfu_sd.shape)"
   ]
  },
  {
   "cell_type": "markdown",
   "id": "68f84d1c",
   "metadata": {},
   "source": [
    "If the validation batch size is set to 64 and `shuffle=False` in the dataloader, each batch should be ordered correctly in latitude. This is convenient for our inverse scaling."
   ]
  },
  {
   "cell_type": "code",
   "execution_count": 19,
   "id": "b85675ac",
   "metadata": {},
   "outputs": [
    {
     "name": "stdout",
     "output_type": "stream",
     "text": [
      "torch.Size([64, 40])\n"
     ]
    }
   ],
   "source": [
    "print(Y_pred.shape)"
   ]
  },
  {
   "cell_type": "code",
   "execution_count": 20,
   "id": "8e20f0f0",
   "metadata": {},
   "outputs": [
    {
     "data": {
      "image/png": "[encoded data removed]",
      "text/plain": [
       "<Figure size 720x720 with 4 Axes>"
      ]
     },
     "metadata": {
      "needs_background": "light"
     },
     "output_type": "display_data"
    }
   ],
   "source": [
    "# Apply the inverse scaler:\n",
    "Y_rescaled = gw_dataset.inverse_standard_scaler(Y.detach(), gwfu_mean, gwfu_sd)\n",
    "Y_pred_rescaled = gw_dataset.inverse_standard_scaler(Y_pred.detach(), gwfu_mean, gwfu_sd)\n",
    "\n",
    "fig, ax = plt.subplots(2,2, figsize=(10, 10))\n",
    "ax = ax.flatten()\n",
    "# Plot a few samples for different latitudes\n",
    "for i, j in enumerate(range(0, 64, 16)):\n",
    "    plt.sca(ax[i])\n",
    "    plt.semilogy(Y_rescaled[j,:], \n",
    "                 gw_dataset.pfull, \n",
    "                 color=\"black\", label=\"Truth\")\n",
    "    plt.semilogy(Y_pred_rescaled[j,:],\n",
    "                 gw_dataset.pfull, \n",
    "                 color=\"red\", label=\"Prediction\")\n",
    "    plt.legend()\n",
    "    plt.gca().invert_yaxis()\n",
    "    plt.axis(xmin=-3e-5, xmax=3e-5)\n",
    "    plt.title(f\"Latitude: {gw_dataset.lat[j]:.1f}\")\n",
    "    plt.xlabel(\"Gravity Wave Drag (ms$^{-2}$)\")\n",
    "    plt.ylabel(\"Pressure (hPa)\")\n",
    "plt.tight_layout()"
   ]
  },
  {
   "cell_type": "markdown",
   "id": "eb02a6b8",
   "metadata": {},
   "source": [
    "These profiles look much more realistic for gravity wave drag so they we can make more sense of them. Our predictions look okay for now, but will improve as they are trained for more epochs. "
   ]
  },
  {
   "cell_type": "code",
   "execution_count": null,
   "id": "2be10cdd",
   "metadata": {},
   "outputs": [],
   "source": []
  },
  {
   "cell_type": "code",
   "execution_count": null,
   "id": "c0a3012e",
   "metadata": {},
   "outputs": [],
   "source": []
  },
  {
   "cell_type": "code",
   "execution_count": null,
   "id": "12935888",
   "metadata": {},
   "outputs": [],
   "source": []
  }
 ],
 "metadata": {
  "kernelspec": {
   "display_name": "torch-cuda",
   "language": "python",
   "name": "torch-cuda"
  },
  "language_info": {
   "codemirror_mode": {
    "name": "ipython",
    "version": 3
   },
   "file_extension": ".py",
   "mimetype": "text/x-python",
   "name": "python",
   "nbconvert_exporter": "python",
   "pygments_lexer": "ipython3",
   "version": "3.9.15"
  }
 },
 "nbformat": 4,
 "nbformat_minor": 5
}
